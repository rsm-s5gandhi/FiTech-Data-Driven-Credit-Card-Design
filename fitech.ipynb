{
 "cells": [
  {
   "cell_type": "markdown",
   "metadata": {},
   "source": [
    "## FiTech: Data Driven Credit Card Design\n",
    "\n",
    "* Team-lead GitHub userid: rsm-\n",
    "* Group name: Group 40\n",
    "* Team member names:\n",
    "    - Kieran Huffman\n",
    "    - Aarushi Gaikwad\n",
    "    - Charles Qian\n",
    "    - Sakshi Gandhi"
   ]
  },
  {
   "cell_type": "markdown",
   "metadata": {},
   "source": [
    "## Setup\n",
    "\n",
    "Please complete this python notebook with your group by answering the questions in `fitech-msba.pdf`.\n",
    "\n",
    "Create a Notebook with all your results and comments and push the Notebook to GitHub when your team is done. Make sure to connect the GitHub repo to GradeScope before the due date. All results MUST be reproducible (i.e., the TA and I must be able to recreate your output from the Jupyter Notebook without changes or errors). This means that you should NOT use any python-packages that are not part of the RSM-MSBA docker container.\n",
    "\n",
    "> Note: Please do not install any packages as part of your Jupyter Notebook submission\n",
    "\n",
    "This is a group assignment and you will be using Git and GitHub. If two people edit the same file at the same time you could get what is called a \"merge conflict\". This is not something serious but you should realize that Git will not decide for you who's changes to accept. The team-lead will have to determine the edits to use. To avoid merge conflicts, **always** \"pull\" changes to the repo before you start working on any files. Then, when you are done, save and commit your changes, and then push them to GitHub. Make \"pull first\" a habit!\n",
    "\n",
    "If multiple people are going to work on the assignment at the same time I recommend you work in different notebooks. You can then `%run ...`  these \"sub\" notebooks from the main assignment file. You can seen an example of this in action below for the `model1.ipynb` notebook\n",
    "\n",
    "Some group work-flow tips:\n",
    "\n",
    "* Pull, edit, save, stage, commit, and push\n",
    "* Schedule who does what and when\n",
    "* Try to avoid working simultaneously on the same file\n",
    "* If you are going to work simultaneously, do it in different notebooks, e.g.,\n",
    "    - model1.ipynb, question1.ipynb, etc.\n",
    "* Use the `%run ... ` command to bring different pieces of code together into the main jupyter notebook\n",
    "* Put python functions in modules that you can import from your notebooks. See the example below for the `example` function defined in `utils/functions.py`\n",
    "\n",
    "A graphical depiction of the group work-flow is shown below:"
   ]
  },
  {
   "cell_type": "markdown",
   "metadata": {},
   "source": [
    "![](images/github-group-workflow.png)"
   ]
  },
  {
   "cell_type": "code",
   "execution_count": 1,
   "metadata": {},
   "outputs": [],
   "source": [
    "import pandas as pd\n",
    "import pyrsm as rsm"
   ]
  },
  {
   "cell_type": "code",
   "execution_count": 2,
   "metadata": {},
   "outputs": [],
   "source": [
    "# Load the data\n",
    "ex1 = pd.read_excel(\"data/exhibits.xlsx\", sheet_name=\"exhibit1\") # Exhibit 1: Results of Recent Solicitations\n",
    "ex2 = pd.read_excel(\"data/exhibits.xlsx\", sheet_name=\"exhibit2\") # Exhibit 2: CLV Estimates for all 12 product offerings"
   ]
  },
  {
   "cell_type": "code",
   "execution_count": 3,
   "metadata": {},
   "outputs": [
    {
     "data": {
      "application/vnd.microsoft.datawrangler.viewer.v0+json": {
       "columns": [
        {
         "name": "index",
         "rawType": "int64",
         "type": "integer"
        },
        {
         "name": "date",
         "rawType": "object",
         "type": "string"
        },
        {
         "name": "apr",
         "rawType": "float64",
         "type": "float"
        },
        {
         "name": "fixed_var",
         "rawType": "object",
         "type": "string"
        },
        {
         "name": "annual_fee",
         "rawType": "int64",
         "type": "integer"
        },
        {
         "name": "visamc",
         "rawType": "object",
         "type": "string"
        },
        {
         "name": "nr_mailed",
         "rawType": "int64",
         "type": "integer"
        },
        {
         "name": "non_resp",
         "rawType": "int64",
         "type": "integer"
        },
        {
         "name": "resp",
         "rawType": "int64",
         "type": "integer"
        },
        {
         "name": "bk_score",
         "rawType": "int64",
         "type": "integer"
        }
       ],
       "conversionMethod": "pd.DataFrame",
       "ref": "a136dd3f-9a86-49a2-a520-9b57a1eb9d5e",
       "rows": [
        [
         "0",
         "April",
         "16.8",
         "Fixed",
         "20",
         "MC ",
         "167000",
         "165467",
         "1533",
         "200"
        ],
        [
         "1",
         "April",
         "16.8",
         "Fixed",
         "0",
         "MC ",
         "81000",
         "78104",
         "2896",
         "200"
        ],
        [
         "2",
         "April",
         "19.8",
         "Fixed",
         "20",
         "MC ",
         "143000",
         "142410",
         "590",
         "200"
        ],
        [
         "3",
         "April",
         "19.8",
         "Fixed",
         "0",
         "MC ",
         "100000",
         "97948",
         "2052",
         "200"
        ],
        [
         "4",
         "September",
         "14.9",
         "Fixed",
         "20",
         "Visa ",
         "177000",
         "172671",
         "4329",
         "250"
        ]
       ],
       "shape": {
        "columns": 9,
        "rows": 5
       }
      },
      "text/html": [
       "<div>\n",
       "<style scoped>\n",
       "    .dataframe tbody tr th:only-of-type {\n",
       "        vertical-align: middle;\n",
       "    }\n",
       "\n",
       "    .dataframe tbody tr th {\n",
       "        vertical-align: top;\n",
       "    }\n",
       "\n",
       "    .dataframe thead th {\n",
       "        text-align: right;\n",
       "    }\n",
       "</style>\n",
       "<table border=\"1\" class=\"dataframe\">\n",
       "  <thead>\n",
       "    <tr style=\"text-align: right;\">\n",
       "      <th></th>\n",
       "      <th>date</th>\n",
       "      <th>apr</th>\n",
       "      <th>fixed_var</th>\n",
       "      <th>annual_fee</th>\n",
       "      <th>visamc</th>\n",
       "      <th>nr_mailed</th>\n",
       "      <th>non_resp</th>\n",
       "      <th>resp</th>\n",
       "      <th>bk_score</th>\n",
       "    </tr>\n",
       "  </thead>\n",
       "  <tbody>\n",
       "    <tr>\n",
       "      <th>0</th>\n",
       "      <td>April</td>\n",
       "      <td>16.8</td>\n",
       "      <td>Fixed</td>\n",
       "      <td>20</td>\n",
       "      <td>MC</td>\n",
       "      <td>167000</td>\n",
       "      <td>165467</td>\n",
       "      <td>1533</td>\n",
       "      <td>200</td>\n",
       "    </tr>\n",
       "    <tr>\n",
       "      <th>1</th>\n",
       "      <td>April</td>\n",
       "      <td>16.8</td>\n",
       "      <td>Fixed</td>\n",
       "      <td>0</td>\n",
       "      <td>MC</td>\n",
       "      <td>81000</td>\n",
       "      <td>78104</td>\n",
       "      <td>2896</td>\n",
       "      <td>200</td>\n",
       "    </tr>\n",
       "    <tr>\n",
       "      <th>2</th>\n",
       "      <td>April</td>\n",
       "      <td>19.8</td>\n",
       "      <td>Fixed</td>\n",
       "      <td>20</td>\n",
       "      <td>MC</td>\n",
       "      <td>143000</td>\n",
       "      <td>142410</td>\n",
       "      <td>590</td>\n",
       "      <td>200</td>\n",
       "    </tr>\n",
       "    <tr>\n",
       "      <th>3</th>\n",
       "      <td>April</td>\n",
       "      <td>19.8</td>\n",
       "      <td>Fixed</td>\n",
       "      <td>0</td>\n",
       "      <td>MC</td>\n",
       "      <td>100000</td>\n",
       "      <td>97948</td>\n",
       "      <td>2052</td>\n",
       "      <td>200</td>\n",
       "    </tr>\n",
       "    <tr>\n",
       "      <th>4</th>\n",
       "      <td>September</td>\n",
       "      <td>14.9</td>\n",
       "      <td>Fixed</td>\n",
       "      <td>20</td>\n",
       "      <td>Visa</td>\n",
       "      <td>177000</td>\n",
       "      <td>172671</td>\n",
       "      <td>4329</td>\n",
       "      <td>250</td>\n",
       "    </tr>\n",
       "  </tbody>\n",
       "</table>\n",
       "</div>"
      ],
      "text/plain": [
       "        date   apr fixed_var  annual_fee visamc  nr_mailed  non_resp  resp  \\\n",
       "0      April  16.8     Fixed          20    MC      167000    165467  1533   \n",
       "1      April  16.8     Fixed           0    MC       81000     78104  2896   \n",
       "2      April  19.8     Fixed          20    MC      143000    142410   590   \n",
       "3      April  19.8     Fixed           0    MC      100000     97948  2052   \n",
       "4  September  14.9     Fixed          20  Visa      177000    172671  4329   \n",
       "\n",
       "   bk_score  \n",
       "0       200  \n",
       "1       200  \n",
       "2       200  \n",
       "3       200  \n",
       "4       250  "
      ]
     },
     "execution_count": 3,
     "metadata": {},
     "output_type": "execute_result"
    }
   ],
   "source": [
    "ex1.head()"
   ]
  },
  {
   "cell_type": "code",
   "execution_count": 4,
   "metadata": {},
   "outputs": [
    {
     "data": {
      "application/vnd.microsoft.datawrangler.viewer.v0+json": {
       "columns": [
        {
         "name": "index",
         "rawType": "int64",
         "type": "integer"
        },
        {
         "name": "offer",
         "rawType": "int64",
         "type": "integer"
        },
        {
         "name": "apr",
         "rawType": "float64",
         "type": "float"
        },
        {
         "name": "fixed_var",
         "rawType": "object",
         "type": "string"
        },
        {
         "name": "annual_fee",
         "rawType": "int64",
         "type": "integer"
        },
        {
         "name": "clv150",
         "rawType": "int64",
         "type": "integer"
        },
        {
         "name": "clv200",
         "rawType": "int64",
         "type": "integer"
        },
        {
         "name": "clv250",
         "rawType": "int64",
         "type": "integer"
        }
       ],
       "conversionMethod": "pd.DataFrame",
       "ref": "3633a125-3fb3-4b7b-b20f-b28206d5a6b1",
       "rows": [
        [
         "0",
         "1",
         "14.9",
         "Fixed",
         "20",
         "83",
         "63",
         "33"
        ],
        [
         "1",
         "2",
         "14.9",
         "Variable",
         "20",
         "93",
         "73",
         "43"
        ],
        [
         "2",
         "3",
         "14.9",
         "Fixed",
         "0",
         "52",
         "32",
         "2"
        ],
        [
         "3",
         "4",
         "14.9",
         "Variable",
         "0",
         "62",
         "42",
         "12"
        ],
        [
         "4",
         "5",
         "16.8",
         "Fixed",
         "20",
         "103",
         "83",
         "53"
        ]
       ],
       "shape": {
        "columns": 7,
        "rows": 5
       }
      },
      "text/html": [
       "<div>\n",
       "<style scoped>\n",
       "    .dataframe tbody tr th:only-of-type {\n",
       "        vertical-align: middle;\n",
       "    }\n",
       "\n",
       "    .dataframe tbody tr th {\n",
       "        vertical-align: top;\n",
       "    }\n",
       "\n",
       "    .dataframe thead th {\n",
       "        text-align: right;\n",
       "    }\n",
       "</style>\n",
       "<table border=\"1\" class=\"dataframe\">\n",
       "  <thead>\n",
       "    <tr style=\"text-align: right;\">\n",
       "      <th></th>\n",
       "      <th>offer</th>\n",
       "      <th>apr</th>\n",
       "      <th>fixed_var</th>\n",
       "      <th>annual_fee</th>\n",
       "      <th>clv150</th>\n",
       "      <th>clv200</th>\n",
       "      <th>clv250</th>\n",
       "    </tr>\n",
       "  </thead>\n",
       "  <tbody>\n",
       "    <tr>\n",
       "      <th>0</th>\n",
       "      <td>1</td>\n",
       "      <td>14.9</td>\n",
       "      <td>Fixed</td>\n",
       "      <td>20</td>\n",
       "      <td>83</td>\n",
       "      <td>63</td>\n",
       "      <td>33</td>\n",
       "    </tr>\n",
       "    <tr>\n",
       "      <th>1</th>\n",
       "      <td>2</td>\n",
       "      <td>14.9</td>\n",
       "      <td>Variable</td>\n",
       "      <td>20</td>\n",
       "      <td>93</td>\n",
       "      <td>73</td>\n",
       "      <td>43</td>\n",
       "    </tr>\n",
       "    <tr>\n",
       "      <th>2</th>\n",
       "      <td>3</td>\n",
       "      <td>14.9</td>\n",
       "      <td>Fixed</td>\n",
       "      <td>0</td>\n",
       "      <td>52</td>\n",
       "      <td>32</td>\n",
       "      <td>2</td>\n",
       "    </tr>\n",
       "    <tr>\n",
       "      <th>3</th>\n",
       "      <td>4</td>\n",
       "      <td>14.9</td>\n",
       "      <td>Variable</td>\n",
       "      <td>0</td>\n",
       "      <td>62</td>\n",
       "      <td>42</td>\n",
       "      <td>12</td>\n",
       "    </tr>\n",
       "    <tr>\n",
       "      <th>4</th>\n",
       "      <td>5</td>\n",
       "      <td>16.8</td>\n",
       "      <td>Fixed</td>\n",
       "      <td>20</td>\n",
       "      <td>103</td>\n",
       "      <td>83</td>\n",
       "      <td>53</td>\n",
       "    </tr>\n",
       "  </tbody>\n",
       "</table>\n",
       "</div>"
      ],
      "text/plain": [
       "   offer   apr fixed_var  annual_fee  clv150  clv200  clv250\n",
       "0      1  14.9     Fixed          20      83      63      33\n",
       "1      2  14.9  Variable          20      93      73      43\n",
       "2      3  14.9     Fixed           0      52      32       2\n",
       "3      4  14.9  Variable           0      62      42      12\n",
       "4      5  16.8     Fixed          20     103      83      53"
      ]
     },
     "execution_count": 4,
     "metadata": {},
     "output_type": "execute_result"
    }
   ],
   "source": [
    "ex2.head()"
   ]
  },
  {
   "cell_type": "code",
   "execution_count": 5,
   "metadata": {},
   "outputs": [],
   "source": [
    "# No need to calculate \"no sale\" column as it's already included in dataset (ex1['non_resp'])\n",
    "\n",
    "# Stack Exhibit 1 dataset\n",
    "ex1_melt = pd.melt(\n",
    "    ex1,\n",
    "    id_vars=['date', 'apr', 'fixed_var', 'annual_fee', 'visamc', 'nr_mailed', 'bk_score'],\n",
    "    value_vars=['non_resp', 'resp'],\n",
    "    var_name='resp_type', # Categorical variable for response type: Did they respond? Or did they not respond?\n",
    "    value_name='count'\n",
    ")\n",
    "\n",
    "ex1_melt.dtypes\n",
    "\n",
    "# Fix categorical datatypes where necessary\n",
    "ex1_melt['date'] = ex1_melt['date'].astype('category')\n",
    "ex1_melt['fixed_var'] = ex1_melt['fixed_var'].astype('category')\n",
    "ex1_melt['visamc'] = ex1_melt['visamc'].astype('category')"
   ]
  },
  {
   "cell_type": "code",
   "execution_count": 6,
   "metadata": {},
   "outputs": [],
   "source": [
    "# Uncomment the last line and use the dataset it creates if not using weights=\"count\" in logistic regression model\n",
    "\n",
    "# Create 1.52 million row dataset for use in model building\n",
    "# df = rsm.table2data(ex1_melt, 'count')"
   ]
  },
  {
   "cell_type": "code",
   "execution_count": null,
   "metadata": {},
   "outputs": [
    {
     "name": "stdout",
     "output_type": "stream",
     "text": [
      "Logistic regression (GLM)\n",
      "Data                 : Exhibit 1 (stacked)\n",
      "Response variable    : resp_type\n",
      "Level                : resp\n",
      "Explanatory variables: apr, fixed_var, annual_fee, visamc, nr_mailed, bk_score\n",
      "Weights used         : count\n",
      "Null hyp.: There is no effect of x on resp_type\n",
      "Alt. hyp.: There is an effect of x on resp_type\n",
      "\n",
      "                        OR     OR%  coefficient  std.error  z.value p.value     \n",
      "Intercept            1.728   72.8%         0.55      0.081    6.752  < .001  ***\n",
      "fixed_var[Variable]  0.813  -18.7%        -0.21      0.021   -9.977  < .001  ***\n",
      "visamc[Visa ]        1.062    6.2%         0.06      0.018    3.425  < .001  ***\n",
      "apr                  0.769  -23.1%        -0.26      0.005  -54.503  < .001  ***\n",
      "annual_fee           0.943   -5.7%        -0.06      0.001  -54.148  < .001  ***\n",
      "nr_mailed            1.000   -0.0%        -0.00      0.000   -2.869   0.004   **\n",
      "bk_score             1.003    0.3%         0.00      0.000   12.459  < .001  ***\n",
      "\n",
      "Signif. codes:  0 '***' 0.001 '**' 0.01 '*' 0.05 '.' 0.1 ' ' 1\n",
      "\n",
      "Pseudo R-squared (McFadden): 0.033\n",
      "Pseudo R-squared (McFadden adjusted): 0.033\n",
      "Area under the RO Curve (AUC): 0.661\n",
      "Log-likelihood: -133055.587, AIC: 266125.174, BIC: 266210.813\n",
      "Chi-squared: 8951.804, df(6), p.value < 0.001 \n",
      "Nr obs: 1,520,000\n"
     ]
    }
   ],
   "source": [
    "# Perform logistic regression\n",
    "lr = rsm.model.logistic(\n",
    "    data={\"Exhibit 1 (stacked)\": ex1_melt},\n",
    "    rvar=\"resp_type\",\n",
    "    lev=\"resp\",\n",
    "    evar=[\"apr\", \"fixed_var\", \"annual_fee\", \"visamc\", \"nr_mailed\", \"bk_score\"],\n",
    "    weights=\"count\"\n",
    ")\n",
    "\n",
    "lr.summary()"
   ]
  },
  {
   "cell_type": "markdown",
   "metadata": {},
   "source": [
    "## Preparation Questions"
   ]
  },
  {
   "cell_type": "markdown",
   "metadata": {},
   "source": [
    "**1. Why does Customer Lifetime Value vary with BK score? Why does Customer Lifetime Value vary by \n",
    "product? (See Exhibit 2 to help answer these questions) (3 points)**"
   ]
  },
  {
   "cell_type": "markdown",
   "metadata": {},
   "source": [
    "Customer lifetime value (CLV) varies with BK score because, the higher a customer's BK score is, the more likely they are to file for bankruptcy. In the event that a customer files for bankruptcy, financial losses are incurred by FiTech, so it makes sense that customers with a higher BK score would have a lower CLV to reflect the increased probability of bankruptcy and financial losses to FiTech when working with these customers.\n",
    "\n",
    "CLV also varies by product because different products have different costs and revenue streams associated with them. For example, some cards have variable interest rates instead of fixed interest rates, which could make revenues less predictable for those products. Some products also have annual fees whereas others don't, which is a reliable increase in revenue for those products. As such, certain products have revenue streams which are either easier to predict or outright greater than others, which would lead to different CLVs for different products."
   ]
  },
  {
   "cell_type": "markdown",
   "metadata": {},
   "source": [
    "**2. Are predictive models estimated on historical data useful in this case? If so, why? If not, why not? (4 points)**"
   ]
  },
  {
   "cell_type": "markdown",
   "metadata": {},
   "source": [
    "Yes, predictive models estimated on historical data would be useful in this case. Such data would be greatly helpful in seeing how customers have behaved in the past and which credit cards they were most likely to purchase and stick with. This data could then be used to predict how they will behave and which products they would enjoy in the future. However, historical data for individual customers is not available for this task, so instead we have to work with the data we have for previous marketing campaigns and possible product offerings."
   ]
  },
  {
   "cell_type": "markdown",
   "metadata": {},
   "source": [
    "**3. Is there a “best product” that will likely be preferred by all customers? If so, what is it? (3 points)**"
   ]
  },
  {
   "cell_type": "markdown",
   "metadata": {},
   "source": [
    "Yes, there is a \"best product\" that will likely be preferred by all customers, and that product is Offer 3. Offer 3 is the \"best product\" because it has an APR of 14.9% (the lowest of the APRs offered), no annual fee, and a fixed APR. This makes it the most affordable credit card for customers, especially with regard to the APR being in the lowest possible offering and the lack of an annual fee. Some customers may prefer a variable APR, but the fixed APR is a more reliable and predictable, making it the more attractive option for most customers. However, because this offering is the best deal for customers, it also has the lowest CLV values, at 52, 32, and 2 for customers with BK scores of 150, 200, and 250 respectively. As such, while offering this credit card would likely lead to the highest response rates from customers, it would also lead to the lowest CLV values for FiTech."
   ]
  },
  {
   "cell_type": "markdown",
   "metadata": {},
   "source": [
    "**4. Describe and justify your testing strategy (10 points)**"
   ]
  },
  {
   "cell_type": "markdown",
   "metadata": {},
   "source": [
    "Our approach will involve running a partial factorial design to test various combinations of APR, annual fee, and fixed versus variable rates. We will first use the seed value 1234 which ensures reproducibility, which is useful when comparing different experimental runs. If needed, we can test different seeds to see how the design varies. Additionally, sample size considerations should be addressed, ensuring statistical significance in the results. The guideline suggests using 4,000 samples per cell, but deviations can be justified based on response variability.\n",
    "\n",
    "Next, we should outline the key metrics for evaluation. Response rate will measure the percentage of customers who accept the credit card offer, while customer lifetime value (CLV) will determine the profitability of each acquired customer. Default rate analysis will be essential to identify whether certain product features attract riskier customers, and net profit will be calculated after accounting for fixed and variable costs associated with the campaign.\n",
    "\n",
    "The initial test allocation plan should be structured to maximize insight. A balanced testing approach could be used by distributing offers equally among the BK score groups, or a risk-weighted testing strategy could prioritize lower-risk segments, as they are more likely to generate long-term profitability. This allocation will help determine which product features lead to the highest CLV while minimizing the risk of defaults.\n",
    "\n",
    "To refine our submission from Round 1 to Round 2, we should closely analyze the response rates and profitability metrics from the initial test. If certain products performed well within specific BK score segments, we should scale up those offerings in Round 2 to maximize overall profitability. Conversely, if some products had low response rates or resulted in negative net profit due to high default risk, we should consider eliminating or reducing their distribution. Additionally, if response rates for high-APR or high-fee products were lower than expected, we may need to adjust our allocation by offering these to lower-risk customers (BK 150) who have a higher likelihood of long-term profitability. Another key adjustment is evaluating the performance of fixed versus variable-rate products; if variable-rate cards were significantly less attractive to customers despite their ability to mitigate interest rate risk, we may need to prioritize fixed-rate offerings in Round 2. Given that Round 2 is the final rollout, our focus will be on maximizing profit rather than just gathering insights in Round 1. This means strategically distributing solicitations to ensure the highest CLV per acquired customer while keeping costs under control. If a competitor's influence was observed in Round 1, such as a shift in customer preference toward no-fee or low-APR cards, we should take that into account when finalizing our Round 2 allocations. By making data-driven adjustments and optimizing product allocation, we can enhance profitability and ensure that the solicitation strategy is aligned with market dynamics and customer behavior."
   ]
  },
  {
   "cell_type": "markdown",
   "metadata": {},
   "source": [
    "**5. Generative AI (5 points)**"
   ]
  },
  {
   "cell_type": "markdown",
   "metadata": {},
   "source": [
    "We used ChatGPT to support our understanding of the FiTech case by refining our testing strategy, evaluating design factors, and optimizing product allocation. For example we asked ChatGPT how should we best adjust our Round 2 submission based on Round 1 results. This helped clarify the decision-making process for maximizing profitability. Additionally, we asked for guidance on factorial design in Radiant, and ChatGPT suggested including BK score as a factor, which improved the robustness of our experimental setup. While the AI responses were helpful in structuring our approach, one limitation was the lack of direct integration with Radiant-for-R, meaning we had to manually validate the design choices within the tool. Another challenge was that AI-generated suggestions sometimes required refinement based on case-specific constraints, such as limited solicitation rounds. A key insight from using Generative AI was its ability to quickly summarize complex concepts and provide alternative strategies, allowing us to iterate on our approach efficiently. However, we also learned the importance of critically evaluating AI-generated recommendations and cross-referencing them with the case study data to ensure accurate decision-making."
   ]
  },
  {
   "cell_type": "markdown",
   "metadata": {},
   "source": [
    "### SIMULATION EXERCISE"
   ]
  },
  {
   "cell_type": "code",
   "execution_count": 15,
   "metadata": {},
   "outputs": [
    {
     "data": {
      "application/vnd.microsoft.datawrangler.viewer.v0+json": {
       "columns": [
        {
         "name": "index",
         "rawType": "int64",
         "type": "integer"
        },
        {
         "name": "trial",
         "rawType": "int64",
         "type": "integer"
        },
        {
         "name": "APR",
         "rawType": "float64",
         "type": "float"
        },
        {
         "name": "Annual_fee",
         "rawType": "int64",
         "type": "integer"
        },
        {
         "name": "FixedVariable",
         "rawType": "object",
         "type": "string"
        },
        {
         "name": "Product_Offer",
         "rawType": "int64",
         "type": "integer"
        },
        {
         "name": "bk_score",
         "rawType": "int64",
         "type": "integer"
        }
       ],
       "conversionMethod": "pd.DataFrame",
       "ref": "39103f27-0834-4f62-afea-39ef3c4efa60",
       "rows": [
        [
         "0",
         "7",
         "14.0",
         "0",
         "Fixed",
         "3",
         "150"
        ],
        [
         "1",
         "21",
         "14.0",
         "0",
         "Fixed",
         "7",
         "250"
        ],
        [
         "2",
         "23",
         "14.0",
         "0",
         "Fixed",
         "8",
         "200"
        ],
        [
         "3",
         "27",
         "14.0",
         "0",
         "Fixed",
         "9",
         "250"
        ],
        [
         "4",
         "28",
         "14.0",
         "0",
         "Fixed",
         "10",
         "150"
        ]
       ],
       "shape": {
        "columns": 6,
        "rows": 5
       }
      },
      "text/html": [
       "<div>\n",
       "<style scoped>\n",
       "    .dataframe tbody tr th:only-of-type {\n",
       "        vertical-align: middle;\n",
       "    }\n",
       "\n",
       "    .dataframe tbody tr th {\n",
       "        vertical-align: top;\n",
       "    }\n",
       "\n",
       "    .dataframe thead th {\n",
       "        text-align: right;\n",
       "    }\n",
       "</style>\n",
       "<table border=\"1\" class=\"dataframe\">\n",
       "  <thead>\n",
       "    <tr style=\"text-align: right;\">\n",
       "      <th></th>\n",
       "      <th>trial</th>\n",
       "      <th>APR</th>\n",
       "      <th>Annual_fee</th>\n",
       "      <th>FixedVariable</th>\n",
       "      <th>Product_Offer</th>\n",
       "      <th>bk_score</th>\n",
       "    </tr>\n",
       "  </thead>\n",
       "  <tbody>\n",
       "    <tr>\n",
       "      <th>0</th>\n",
       "      <td>7</td>\n",
       "      <td>14.0</td>\n",
       "      <td>0</td>\n",
       "      <td>Fixed</td>\n",
       "      <td>3</td>\n",
       "      <td>150</td>\n",
       "    </tr>\n",
       "    <tr>\n",
       "      <th>1</th>\n",
       "      <td>21</td>\n",
       "      <td>14.0</td>\n",
       "      <td>0</td>\n",
       "      <td>Fixed</td>\n",
       "      <td>7</td>\n",
       "      <td>250</td>\n",
       "    </tr>\n",
       "    <tr>\n",
       "      <th>2</th>\n",
       "      <td>23</td>\n",
       "      <td>14.0</td>\n",
       "      <td>0</td>\n",
       "      <td>Fixed</td>\n",
       "      <td>8</td>\n",
       "      <td>200</td>\n",
       "    </tr>\n",
       "    <tr>\n",
       "      <th>3</th>\n",
       "      <td>27</td>\n",
       "      <td>14.0</td>\n",
       "      <td>0</td>\n",
       "      <td>Fixed</td>\n",
       "      <td>9</td>\n",
       "      <td>250</td>\n",
       "    </tr>\n",
       "    <tr>\n",
       "      <th>4</th>\n",
       "      <td>28</td>\n",
       "      <td>14.0</td>\n",
       "      <td>0</td>\n",
       "      <td>Fixed</td>\n",
       "      <td>10</td>\n",
       "      <td>150</td>\n",
       "    </tr>\n",
       "  </tbody>\n",
       "</table>\n",
       "</div>"
      ],
      "text/plain": [
       "   trial   APR  Annual_fee FixedVariable  Product_Offer  bk_score\n",
       "0      7  14.0           0         Fixed              3       150\n",
       "1     21  14.0           0         Fixed              7       250\n",
       "2     23  14.0           0         Fixed              8       200\n",
       "3     27  14.0           0         Fixed              9       250\n",
       "4     28  14.0           0         Fixed             10       150"
      ]
     },
     "execution_count": 15,
     "metadata": {},
     "output_type": "execute_result"
    }
   ],
   "source": [
    "import pandas as pd\n",
    "\n",
    "file_path = \"data/part_factorial.csv\"\n",
    "df = pd.read_csv(file_path)\n",
    "\n",
    "# Display the first few rows to understand its structure\n",
    "df.head()"
   ]
  },
  {
   "cell_type": "code",
   "execution_count": 16,
   "metadata": {},
   "outputs": [
    {
     "name": "stdout",
     "output_type": "stream",
     "text": [
      "bk_score       150  200  250  Total  150_pct  200_pct  250_pct  Emails_150  \\\n",
      "Product_Offer                                                                \n",
      "1                2    1    2      5      0.4      0.2      0.4       25000   \n",
      "2                2    1    2      5      0.4      0.2      0.4       25000   \n",
      "3                2    2    1      5      0.4      0.4      0.2       25000   \n",
      "4                2    1    2      5      0.4      0.2      0.4       25000   \n",
      "5                1    2    2      5      0.2      0.4      0.4       12500   \n",
      "6                1    2    2      5      0.2      0.4      0.4       12500   \n",
      "7                1    2    2      5      0.2      0.4      0.4       12500   \n",
      "8                2    1    2      5      0.4      0.2      0.4       25000   \n",
      "9                2    2    1      5      0.4      0.4      0.2       25000   \n",
      "10               2    2    1      5      0.4      0.4      0.2       25000   \n",
      "11               2    2    1      5      0.4      0.4      0.2       25000   \n",
      "12               1    2    2      5      0.2      0.4      0.4       12500   \n",
      "\n",
      "bk_score       Emails_200  Emails_250  \n",
      "Product_Offer                          \n",
      "1                   12500       25000  \n",
      "2                   12500       25000  \n",
      "3                   25000       12500  \n",
      "4                   12500       25000  \n",
      "5                   25000       25000  \n",
      "6                   25000       25000  \n",
      "7                   25000       25000  \n",
      "8                   12500       25000  \n",
      "9                   25000       12500  \n",
      "10                  25000       12500  \n",
      "11                  25000       12500  \n",
      "12                  25000       25000  \n"
     ]
    }
   ],
   "source": [
    "# Summarize the count of each product offer per BK score group\n",
    "product_distribution = df.groupby([\"Product_Offer\", \"bk_score\"]).size().unstack(fill_value=0)\n",
    "\n",
    "# Calculate the total occurrences of each product in the experimental design\n",
    "product_distribution[\"Total\"] = product_distribution.sum(axis=1)\n",
    "\n",
    "# Normalize to determine proportion of emails to allocate\n",
    "product_distribution[\"150_pct\"] = product_distribution[150] / product_distribution[\"Total\"]\n",
    "product_distribution[\"200_pct\"] = product_distribution[200] / product_distribution[\"Total\"]\n",
    "product_distribution[\"250_pct\"] = product_distribution[250] / product_distribution[\"Total\"]\n",
    "\n",
    "# Calculate the recommended number of emails to send per product and BK group\n",
    "total_emails = 750000  # Total emails available\n",
    "emails_per_product = total_emails / len(product_distribution)  # Even distribution\n",
    "\n",
    "product_distribution[\"Emails_150\"] = (emails_per_product * product_distribution[\"150_pct\"]).astype(int)\n",
    "product_distribution[\"Emails_200\"] = (emails_per_product * product_distribution[\"200_pct\"]).astype(int)\n",
    "product_distribution[\"Emails_250\"] = (emails_per_product * product_distribution[\"250_pct\"]).astype(int)\n",
    "\n",
    "print(product_distribution) \n"
   ]
  },
  {
   "cell_type": "markdown",
   "metadata": {},
   "source": [
    "For Round 1, we designed our email allocation using a proportional allocation strategy based on a partial factorial design we made in Radiant. The goal was to ensure that each product offer was tested across different BK score segments (150, 200, 250) to gather insights on customer response behavior. Initially, we distributed emails evenly across all offers, allocating 750,000 emails proportionally to ensure each product received a fair test. This method allowed us to observe how different combinations of APR, annual fees, and fixed vs. variable rates performed across varying credit risk levels. Since we did not have prior data on response rates or profitability, the Round 1 allocation served as an exploratory test to identify high- and low-performing offers before making data-driven adjustments for the final rollout."
   ]
  },
  {
   "cell_type": "code",
   "execution_count": 17,
   "metadata": {},
   "outputs": [
    {
     "name": "stderr",
     "output_type": "stream",
     "text": [
      "/tmp/ipykernel_65845/4168718170.py:39: SettingWithCopyWarning: \n",
      "A value is trying to be set on a copy of a slice from a DataFrame.\n",
      "Try using .loc[row_indexer,col_indexer] = value instead\n",
      "\n",
      "See the caveats in the documentation: https://pandas.pydata.org/pandas-docs/stable/user_guide/indexing.html#returning-a-view-versus-a-copy\n",
      "  df_filtered[\"Alloc_150\"] = (df_filtered[\"Weighted_150\"] / total_weight) * 750000\n",
      "/tmp/ipykernel_65845/4168718170.py:40: SettingWithCopyWarning: \n",
      "A value is trying to be set on a copy of a slice from a DataFrame.\n",
      "Try using .loc[row_indexer,col_indexer] = value instead\n",
      "\n",
      "See the caveats in the documentation: https://pandas.pydata.org/pandas-docs/stable/user_guide/indexing.html#returning-a-view-versus-a-copy\n",
      "  df_filtered[\"Alloc_200\"] = (df_filtered[\"Weighted_200\"] / total_weight) * 750000\n",
      "/tmp/ipykernel_65845/4168718170.py:41: SettingWithCopyWarning: \n",
      "A value is trying to be set on a copy of a slice from a DataFrame.\n",
      "Try using .loc[row_indexer,col_indexer] = value instead\n",
      "\n",
      "See the caveats in the documentation: https://pandas.pydata.org/pandas-docs/stable/user_guide/indexing.html#returning-a-view-versus-a-copy\n",
      "  df_filtered[\"Alloc_250\"] = (df_filtered[\"Weighted_250\"] / total_weight) * 750000\n",
      "/tmp/ipykernel_65845/4168718170.py:44: SettingWithCopyWarning: \n",
      "A value is trying to be set on a copy of a slice from a DataFrame.\n",
      "Try using .loc[row_indexer,col_indexer] = value instead\n",
      "\n",
      "See the caveats in the documentation: https://pandas.pydata.org/pandas-docs/stable/user_guide/indexing.html#returning-a-view-versus-a-copy\n",
      "  df_filtered[\"Alloc_150\"] = df_filtered[\"Alloc_150\"].astype(int)\n",
      "/tmp/ipykernel_65845/4168718170.py:45: SettingWithCopyWarning: \n",
      "A value is trying to be set on a copy of a slice from a DataFrame.\n",
      "Try using .loc[row_indexer,col_indexer] = value instead\n",
      "\n",
      "See the caveats in the documentation: https://pandas.pydata.org/pandas-docs/stable/user_guide/indexing.html#returning-a-view-versus-a-copy\n",
      "  df_filtered[\"Alloc_200\"] = df_filtered[\"Alloc_200\"].astype(int)\n",
      "/tmp/ipykernel_65845/4168718170.py:46: SettingWithCopyWarning: \n",
      "A value is trying to be set on a copy of a slice from a DataFrame.\n",
      "Try using .loc[row_indexer,col_indexer] = value instead\n",
      "\n",
      "See the caveats in the documentation: https://pandas.pydata.org/pandas-docs/stable/user_guide/indexing.html#returning-a-view-versus-a-copy\n",
      "  df_filtered[\"Alloc_250\"] = df_filtered[\"Alloc_250\"].astype(int)\n"
     ]
    },
    {
     "data": {
      "application/vnd.microsoft.datawrangler.viewer.v0+json": {
       "columns": [
        {
         "name": "index",
         "rawType": "int64",
         "type": "integer"
        },
        {
         "name": "Product",
         "rawType": "int64",
         "type": "integer"
        },
        {
         "name": "Alloc_150",
         "rawType": "int64",
         "type": "integer"
        },
        {
         "name": "Alloc_200",
         "rawType": "int64",
         "type": "integer"
        },
        {
         "name": "Alloc_250",
         "rawType": "int64",
         "type": "integer"
        }
       ],
       "conversionMethod": "pd.DataFrame",
       "ref": "d03af039-f38b-4d66-8b47-26a6f3d0b0e6",
       "rows": [
        [
         "0",
         "1",
         "23065",
         "25283",
         "20150"
        ],
        [
         "1",
         "2",
         "16221",
         "15968",
         "12926"
        ],
        [
         "2",
         "3",
         "60197",
         "117955",
         "25061"
        ],
        [
         "3",
         "4",
         "55825",
         "53322",
         "45655"
        ],
        [
         "4",
         "5",
         "7477",
         "7318",
         "5671"
        ],
        [
         "5",
         "6",
         "4055",
         "5132",
         "4213"
        ],
        [
         "6",
         "7",
         "23445",
         "24094",
         "19168"
        ],
        [
         "7",
         "8",
         "22558",
         "25187",
         "16918"
        ],
        [
         "10",
         "11",
         "19960",
         "31936",
         "13180"
        ],
        [
         "11",
         "12",
         "17108",
         "17631",
         "13306"
        ]
       ],
       "shape": {
        "columns": 4,
        "rows": 10
       }
      },
      "text/html": [
       "<div>\n",
       "<style scoped>\n",
       "    .dataframe tbody tr th:only-of-type {\n",
       "        vertical-align: middle;\n",
       "    }\n",
       "\n",
       "    .dataframe tbody tr th {\n",
       "        vertical-align: top;\n",
       "    }\n",
       "\n",
       "    .dataframe thead th {\n",
       "        text-align: right;\n",
       "    }\n",
       "</style>\n",
       "<table border=\"1\" class=\"dataframe\">\n",
       "  <thead>\n",
       "    <tr style=\"text-align: right;\">\n",
       "      <th></th>\n",
       "      <th>Product</th>\n",
       "      <th>Alloc_150</th>\n",
       "      <th>Alloc_200</th>\n",
       "      <th>Alloc_250</th>\n",
       "    </tr>\n",
       "  </thead>\n",
       "  <tbody>\n",
       "    <tr>\n",
       "      <th>0</th>\n",
       "      <td>1</td>\n",
       "      <td>23065</td>\n",
       "      <td>25283</td>\n",
       "      <td>20150</td>\n",
       "    </tr>\n",
       "    <tr>\n",
       "      <th>1</th>\n",
       "      <td>2</td>\n",
       "      <td>16221</td>\n",
       "      <td>15968</td>\n",
       "      <td>12926</td>\n",
       "    </tr>\n",
       "    <tr>\n",
       "      <th>2</th>\n",
       "      <td>3</td>\n",
       "      <td>60197</td>\n",
       "      <td>117955</td>\n",
       "      <td>25061</td>\n",
       "    </tr>\n",
       "    <tr>\n",
       "      <th>3</th>\n",
       "      <td>4</td>\n",
       "      <td>55825</td>\n",
       "      <td>53322</td>\n",
       "      <td>45655</td>\n",
       "    </tr>\n",
       "    <tr>\n",
       "      <th>4</th>\n",
       "      <td>5</td>\n",
       "      <td>7477</td>\n",
       "      <td>7318</td>\n",
       "      <td>5671</td>\n",
       "    </tr>\n",
       "    <tr>\n",
       "      <th>5</th>\n",
       "      <td>6</td>\n",
       "      <td>4055</td>\n",
       "      <td>5132</td>\n",
       "      <td>4213</td>\n",
       "    </tr>\n",
       "    <tr>\n",
       "      <th>6</th>\n",
       "      <td>7</td>\n",
       "      <td>23445</td>\n",
       "      <td>24094</td>\n",
       "      <td>19168</td>\n",
       "    </tr>\n",
       "    <tr>\n",
       "      <th>7</th>\n",
       "      <td>8</td>\n",
       "      <td>22558</td>\n",
       "      <td>25187</td>\n",
       "      <td>16918</td>\n",
       "    </tr>\n",
       "    <tr>\n",
       "      <th>10</th>\n",
       "      <td>11</td>\n",
       "      <td>19960</td>\n",
       "      <td>31936</td>\n",
       "      <td>13180</td>\n",
       "    </tr>\n",
       "    <tr>\n",
       "      <th>11</th>\n",
       "      <td>12</td>\n",
       "      <td>17108</td>\n",
       "      <td>17631</td>\n",
       "      <td>13306</td>\n",
       "    </tr>\n",
       "  </tbody>\n",
       "</table>\n",
       "</div>"
      ],
      "text/plain": [
       "    Product  Alloc_150  Alloc_200  Alloc_250\n",
       "0         1      23065      25283      20150\n",
       "1         2      16221      15968      12926\n",
       "2         3      60197     117955      25061\n",
       "3         4      55825      53322      45655\n",
       "4         5       7477       7318       5671\n",
       "5         6       4055       5132       4213\n",
       "6         7      23445      24094      19168\n",
       "7         8      22558      25187      16918\n",
       "10       11      19960      31936      13180\n",
       "11       12      17108      17631      13306"
      ]
     },
     "execution_count": 17,
     "metadata": {},
     "output_type": "execute_result"
    }
   ],
   "source": [
    "df_round1 = pd.read_csv(\"data/Round1_Results.csv\")\n",
    "\n",
    "# Rename columns for easier manipulation\n",
    "df_round1.rename(columns={\n",
    "    \"Product Number\": \"Product\",\n",
    "    \"150 Sent\": \"Sent_150\", \"150 Responses\": \"Responses_150\",\n",
    "    \"200 Sent\": \"Sent_200\", \"200 Responses\": \"Responses_200\",\n",
    "    \"250 Sent\": \"Sent_250\", \"250 Responses\": \"Responses_250\"\n",
    "}, inplace=True)\n",
    "\n",
    "# Calculate response rates\n",
    "df_round1[\"ResponseRate_150\"] = df_round1[\"Responses_150\"] / df_round1[\"Sent_150\"]\n",
    "df_round1[\"ResponseRate_200\"] = df_round1[\"Responses_200\"] / df_round1[\"Sent_200\"]\n",
    "df_round1[\"ResponseRate_250\"] = df_round1[\"Responses_250\"] / df_round1[\"Sent_250\"]\n",
    "\n",
    "# Define hypothetical CLV values for each BK segment (higher CLV for lower BK)\n",
    "clv_150 = 120  # Higher CLV due to lower risk\n",
    "clv_200 = 90\n",
    "clv_250 = 60  # Lower CLV due to higher default risk\n",
    "\n",
    "# Calculate weighted CLV-adjusted response scores\n",
    "df_round1[\"Weighted_150\"] = df_round1[\"ResponseRate_150\"] * clv_150\n",
    "df_round1[\"Weighted_200\"] = df_round1[\"ResponseRate_200\"] * clv_200\n",
    "df_round1[\"Weighted_250\"] = df_round1[\"ResponseRate_250\"] * clv_250\n",
    "\n",
    "# Identify low-performing products based on response rates\n",
    "low_threshold = 0.005  # 0.5% response rate cutoff\n",
    "eliminate_products = df_round1[\n",
    "    (df_round1[\"ResponseRate_150\"] < low_threshold) &\n",
    "    (df_round1[\"ResponseRate_200\"] < low_threshold) &\n",
    "    (df_round1[\"ResponseRate_250\"] < low_threshold)\n",
    "][\"Product\"].tolist()\n",
    "\n",
    "# Remove low-performing products from the allocation\n",
    "df_filtered = df_round1[~df_round1[\"Product\"].isin(eliminate_products)]\n",
    "\n",
    "# Normalize weights again after removal\n",
    "total_weight = df_filtered[\"Weighted_150\"].sum() + df_filtered[\"Weighted_200\"].sum() + df_filtered[\"Weighted_250\"].sum()\n",
    "df_filtered[\"Alloc_150\"] = (df_filtered[\"Weighted_150\"] / total_weight) * 750000\n",
    "df_filtered[\"Alloc_200\"] = (df_filtered[\"Weighted_200\"] / total_weight) * 750000\n",
    "df_filtered[\"Alloc_250\"] = (df_filtered[\"Weighted_250\"] / total_weight) * 750000\n",
    "\n",
    "# Convert to integers for final allocation\n",
    "df_filtered[\"Alloc_150\"] = df_filtered[\"Alloc_150\"].astype(int)\n",
    "df_filtered[\"Alloc_200\"] = df_filtered[\"Alloc_200\"].astype(int)\n",
    "df_filtered[\"Alloc_250\"] = df_filtered[\"Alloc_250\"].astype(int)\n",
    "\n",
    "# Prepare final allocation table\n",
    "final_allocation_filtered = df_filtered[[\"Product\", \"Alloc_150\", \"Alloc_200\", \"Alloc_250\"]]\n",
    "final_allocation_filtered\n"
   ]
  },
  {
   "cell_type": "markdown",
   "metadata": {},
   "source": [
    "For Round 2, we refined our allocation strategy based on the results from Round 1, incorporating both response rates and Customer Lifetime Value (CLV) to maximize profitability. We first calculated response rates for each product across BK score segments and identified high-performing, moderate-performing, and low-performing products. Products with very low response rates across all BK scores were removed to optimize the allocation for more effective offers. We then adjusted our email distribution using a CLV-weighted response model, which prioritized BK 150 customers due to their higher CLV and lower default risk, while still considering BK 200 and BK 250 where response rates were strong. This final allocation ensures that we are maximizing overall profitability, rather than just increasing the number of responses, by strategically distributing emails to segments and products with the highest expected return."
   ]
  }
 ],
 "metadata": {
  "kernelspec": {
   "display_name": "base",
   "language": "python",
   "name": "python3"
  },
  "language_info": {
   "codemirror_mode": {
    "name": "ipython",
    "version": 3
   },
   "file_extension": ".py",
   "mimetype": "text/x-python",
   "name": "python",
   "nbconvert_exporter": "python",
   "pygments_lexer": "ipython3",
   "version": "3.12.7"
  }
 },
 "nbformat": 4,
 "nbformat_minor": 4
}
